{
 "cells": [
  {
   "cell_type": "markdown",
   "metadata": {},
   "source": [
    "# Introduction\n",
    "\n",
    "The goal of this project is to explore and analyze the data collected from the National Parks Service, to reveal if patterns exist for why some species are in conservation.\n",
    "\n",
    "\n",
    "Questions that this project will answer:\n",
    "- What are the unique conservations statuses of the dataset?\n",
    "- What are the unique parks/species observed?\n",
    "- What spescies is more likely to be protected?\n",
    "\n",
    "**Data sources:** \n",
    "\n",
    "`species_info.csv` and `observations.csv`, were provided by [codecademy.com](https://www.codecademy.com)"
   ]
  },
  {
   "cell_type": "code",
   "execution_count": 1,
   "metadata": {},
   "outputs": [],
   "source": [
    "import numpy as np\n",
    "import pandas as pd\n",
    "import matplotlib.pyplot as plt\n",
    "import seaborn as sns\n",
    "import string\n",
    "import re"
   ]
  },
  {
   "cell_type": "code",
   "execution_count": 57,
   "metadata": {},
   "outputs": [],
   "source": [
    "# Reading the data into seperte variables\n",
    "\n",
    "species_df = pd.read_csv('species_info.csv')\n",
    "observations_df = pd.read_csv('observations.csv')"
   ]
  },
  {
   "cell_type": "code",
   "execution_count": 62,
   "metadata": {},
   "outputs": [
    {
     "data": {
      "text/html": [
       "<div>\n",
       "<style scoped>\n",
       "    .dataframe tbody tr th:only-of-type {\n",
       "        vertical-align: middle;\n",
       "    }\n",
       "\n",
       "    .dataframe tbody tr th {\n",
       "        vertical-align: top;\n",
       "    }\n",
       "\n",
       "    .dataframe thead th {\n",
       "        text-align: right;\n",
       "    }\n",
       "</style>\n",
       "<table border=\"1\" class=\"dataframe\">\n",
       "  <thead>\n",
       "    <tr style=\"text-align: right;\">\n",
       "      <th></th>\n",
       "      <th>category</th>\n",
       "      <th>scientific_name</th>\n",
       "      <th>common_names</th>\n",
       "      <th>conservation_status</th>\n",
       "    </tr>\n",
       "  </thead>\n",
       "  <tbody>\n",
       "    <tr>\n",
       "      <th>1254</th>\n",
       "      <td>Vascular Plant</td>\n",
       "      <td>Rhododendron</td>\n",
       "      <td>Azaleas, Rhododendron</td>\n",
       "      <td>NaN</td>\n",
       "    </tr>\n",
       "    <tr>\n",
       "      <th>1228</th>\n",
       "      <td>Vascular Plant</td>\n",
       "      <td>Valerianella radiata</td>\n",
       "      <td>Beaked Corn-Salad, Corn Salad</td>\n",
       "      <td>NaN</td>\n",
       "    </tr>\n",
       "    <tr>\n",
       "      <th>3947</th>\n",
       "      <td>Vascular Plant</td>\n",
       "      <td>Collinsia parviflora</td>\n",
       "      <td>Blue-Eyed Mary, Littleflower Collinsia, Maiden...</td>\n",
       "      <td>NaN</td>\n",
       "    </tr>\n",
       "    <tr>\n",
       "      <th>4070</th>\n",
       "      <td>Vascular Plant</td>\n",
       "      <td>Carex aurea</td>\n",
       "      <td>Golden Sedge, Golden-Fruit Sedge</td>\n",
       "      <td>NaN</td>\n",
       "    </tr>\n",
       "    <tr>\n",
       "      <th>3456</th>\n",
       "      <td>Vascular Plant</td>\n",
       "      <td>Erigeron glabellus var. glabellus</td>\n",
       "      <td>Rough Fleabane, Streamside Fleabane</td>\n",
       "      <td>NaN</td>\n",
       "    </tr>\n",
       "    <tr>\n",
       "      <th>5052</th>\n",
       "      <td>Vascular Plant</td>\n",
       "      <td>Philadelphus lewisii</td>\n",
       "      <td>Lewis' Mock Orange</td>\n",
       "      <td>NaN</td>\n",
       "    </tr>\n",
       "    <tr>\n",
       "      <th>3984</th>\n",
       "      <td>Vascular Plant</td>\n",
       "      <td>Xerophyllum tenax</td>\n",
       "      <td>Common Beargrass</td>\n",
       "      <td>NaN</td>\n",
       "    </tr>\n",
       "    <tr>\n",
       "      <th>5206</th>\n",
       "      <td>Vascular Plant</td>\n",
       "      <td>Asclepias californica</td>\n",
       "      <td>California Milkweed, Round-Hood Milkweed, Wool...</td>\n",
       "      <td>NaN</td>\n",
       "    </tr>\n",
       "    <tr>\n",
       "      <th>75</th>\n",
       "      <td>Mammal</td>\n",
       "      <td>Sciurus carolinensis</td>\n",
       "      <td>Eastern Gray Squirrel, Gray Squirrel</td>\n",
       "      <td>NaN</td>\n",
       "    </tr>\n",
       "    <tr>\n",
       "      <th>2628</th>\n",
       "      <td>Vascular Plant</td>\n",
       "      <td>Chrysosplenium americanum</td>\n",
       "      <td>American Golden-Saxifrage, Golden Saxifrage</td>\n",
       "      <td>NaN</td>\n",
       "    </tr>\n",
       "  </tbody>\n",
       "</table>\n",
       "</div>"
      ],
      "text/plain": [
       "            category                    scientific_name  \\\n",
       "1254  Vascular Plant                       Rhododendron   \n",
       "1228  Vascular Plant               Valerianella radiata   \n",
       "3947  Vascular Plant               Collinsia parviflora   \n",
       "4070  Vascular Plant                        Carex aurea   \n",
       "3456  Vascular Plant  Erigeron glabellus var. glabellus   \n",
       "5052  Vascular Plant               Philadelphus lewisii   \n",
       "3984  Vascular Plant                  Xerophyllum tenax   \n",
       "5206  Vascular Plant              Asclepias californica   \n",
       "75            Mammal               Sciurus carolinensis   \n",
       "2628  Vascular Plant          Chrysosplenium americanum   \n",
       "\n",
       "                                           common_names conservation_status  \n",
       "1254                              Azaleas, Rhododendron                 NaN  \n",
       "1228                      Beaked Corn-Salad, Corn Salad                 NaN  \n",
       "3947  Blue-Eyed Mary, Littleflower Collinsia, Maiden...                 NaN  \n",
       "4070                   Golden Sedge, Golden-Fruit Sedge                 NaN  \n",
       "3456                Rough Fleabane, Streamside Fleabane                 NaN  \n",
       "5052                                 Lewis' Mock Orange                 NaN  \n",
       "3984                                   Common Beargrass                 NaN  \n",
       "5206  California Milkweed, Round-Hood Milkweed, Wool...                 NaN  \n",
       "75                 Eastern Gray Squirrel, Gray Squirrel                 NaN  \n",
       "2628        American Golden-Saxifrage, Golden Saxifrage                 NaN  "
      ]
     },
     "metadata": {},
     "output_type": "display_data"
    },
    {
     "data": {
      "text/html": [
       "<div>\n",
       "<style scoped>\n",
       "    .dataframe tbody tr th:only-of-type {\n",
       "        vertical-align: middle;\n",
       "    }\n",
       "\n",
       "    .dataframe tbody tr th {\n",
       "        vertical-align: top;\n",
       "    }\n",
       "\n",
       "    .dataframe thead th {\n",
       "        text-align: right;\n",
       "    }\n",
       "</style>\n",
       "<table border=\"1\" class=\"dataframe\">\n",
       "  <thead>\n",
       "    <tr style=\"text-align: right;\">\n",
       "      <th></th>\n",
       "      <th>scientific_name</th>\n",
       "      <th>park_name</th>\n",
       "      <th>observations</th>\n",
       "    </tr>\n",
       "  </thead>\n",
       "  <tbody>\n",
       "    <tr>\n",
       "      <th>2265</th>\n",
       "      <td>Ranunculus hispidus</td>\n",
       "      <td>Great Smoky Mountains National Park</td>\n",
       "      <td>113</td>\n",
       "    </tr>\n",
       "    <tr>\n",
       "      <th>7487</th>\n",
       "      <td>Euonymus americana</td>\n",
       "      <td>Great Smoky Mountains National Park</td>\n",
       "      <td>50</td>\n",
       "    </tr>\n",
       "    <tr>\n",
       "      <th>15476</th>\n",
       "      <td>Carex brainerdii</td>\n",
       "      <td>Great Smoky Mountains National Park</td>\n",
       "      <td>85</td>\n",
       "    </tr>\n",
       "    <tr>\n",
       "      <th>7536</th>\n",
       "      <td>Holocarpha virgata ssp. virgata</td>\n",
       "      <td>Yellowstone National Park</td>\n",
       "      <td>266</td>\n",
       "    </tr>\n",
       "    <tr>\n",
       "      <th>15540</th>\n",
       "      <td>Quercus phellos</td>\n",
       "      <td>Yellowstone National Park</td>\n",
       "      <td>267</td>\n",
       "    </tr>\n",
       "    <tr>\n",
       "      <th>10608</th>\n",
       "      <td>Potamogeton robbinsii</td>\n",
       "      <td>Bryce National Park</td>\n",
       "      <td>77</td>\n",
       "    </tr>\n",
       "    <tr>\n",
       "      <th>19733</th>\n",
       "      <td>Lupinus stiversii</td>\n",
       "      <td>Great Smoky Mountains National Park</td>\n",
       "      <td>93</td>\n",
       "    </tr>\n",
       "    <tr>\n",
       "      <th>844</th>\n",
       "      <td>Thuja occidentalis</td>\n",
       "      <td>Yosemite National Park</td>\n",
       "      <td>141</td>\n",
       "    </tr>\n",
       "    <tr>\n",
       "      <th>10235</th>\n",
       "      <td>Ulota coarctata</td>\n",
       "      <td>Great Smoky Mountains National Park</td>\n",
       "      <td>65</td>\n",
       "    </tr>\n",
       "    <tr>\n",
       "      <th>17628</th>\n",
       "      <td>Archilochus alexandri</td>\n",
       "      <td>Great Smoky Mountains National Park</td>\n",
       "      <td>72</td>\n",
       "    </tr>\n",
       "  </tbody>\n",
       "</table>\n",
       "</div>"
      ],
      "text/plain": [
       "                       scientific_name                            park_name  \\\n",
       "2265               Ranunculus hispidus  Great Smoky Mountains National Park   \n",
       "7487                Euonymus americana  Great Smoky Mountains National Park   \n",
       "15476                 Carex brainerdii  Great Smoky Mountains National Park   \n",
       "7536   Holocarpha virgata ssp. virgata            Yellowstone National Park   \n",
       "15540                  Quercus phellos            Yellowstone National Park   \n",
       "10608            Potamogeton robbinsii                  Bryce National Park   \n",
       "19733                Lupinus stiversii  Great Smoky Mountains National Park   \n",
       "844                 Thuja occidentalis               Yosemite National Park   \n",
       "10235                  Ulota coarctata  Great Smoky Mountains National Park   \n",
       "17628            Archilochus alexandri  Great Smoky Mountains National Park   \n",
       "\n",
       "       observations  \n",
       "2265            113  \n",
       "7487             50  \n",
       "15476            85  \n",
       "7536            266  \n",
       "15540           267  \n",
       "10608            77  \n",
       "19733            93  \n",
       "844             141  \n",
       "10235            65  \n",
       "17628            72  "
      ]
     },
     "metadata": {},
     "output_type": "display_data"
    }
   ],
   "source": [
    "display(species_df.sample(10))\n",
    "display(observations_df.sample(10))"
   ]
  },
  {
   "cell_type": "code",
   "execution_count": 5,
   "metadata": {},
   "outputs": [
    {
     "name": "stdout",
     "output_type": "stream",
     "text": [
      "This is a list of the unique categories in the species data set.\n",
      "['Mammal', 'Bird', 'Reptile', 'Amphibian', 'Fish', 'Vascular Plant', 'Nonvascular Plant']\n"
     ]
    }
   ],
   "source": [
    "unique_category = [x for x in species_df.category.unique()]\n",
    "\n",
    "print('This is a list of the unique categories in the species data set.')\n",
    "print(unique_category)"
   ]
  },
  {
   "cell_type": "code",
   "execution_count": 6,
   "metadata": {
    "scrolled": true
   },
   "outputs": [
    {
     "name": "stdout",
     "output_type": "stream",
     "text": [
      "This is a unique list of conservation statuses for the various species.\n",
      "[nan, 'Species of Concern', 'Endangered', 'Threatened', 'In Recovery']\n",
      "I will assume that \"nan\" means that species is not in danger of extinction.\n"
     ]
    }
   ],
   "source": [
    "unique_conservation = [x for x in species_df.conservation_status.unique()]\n",
    "\n",
    "print('This is a unique list of conservation statuses for the various species.')\n",
    "print(unique_conservation)\n",
    "\n",
    "print('I will assume that \"nan\" means that species is not in danger of extinction.')\n"
   ]
  },
  {
   "cell_type": "code",
   "execution_count": 7,
   "metadata": {},
   "outputs": [],
   "source": [
    "# I will change the 'nan' conservation status value to 'None'\n",
    "\n",
    "species_df.conservation_status.fillna('None', inplace=True)\n",
    "\n",
    "# Here I add a new column 'is_protected', to filter rows that are not equal to 'None' for 'conservation_status'\n",
    "\n",
    "species_df['is_protected'] = species_df['conservation_status'] != 'None'"
   ]
  },
  {
   "cell_type": "code",
   "execution_count": 8,
   "metadata": {},
   "outputs": [
    {
     "data": {
      "text/html": [
       "<div>\n",
       "<style scoped>\n",
       "    .dataframe tbody tr th:only-of-type {\n",
       "        vertical-align: middle;\n",
       "    }\n",
       "\n",
       "    .dataframe tbody tr th {\n",
       "        vertical-align: top;\n",
       "    }\n",
       "\n",
       "    .dataframe thead th {\n",
       "        text-align: right;\n",
       "    }\n",
       "</style>\n",
       "<table border=\"1\" class=\"dataframe\">\n",
       "  <thead>\n",
       "    <tr style=\"text-align: right;\">\n",
       "      <th></th>\n",
       "      <th>category</th>\n",
       "      <th>not_protected</th>\n",
       "      <th>protected</th>\n",
       "      <th>total</th>\n",
       "      <th>perc_protected</th>\n",
       "    </tr>\n",
       "  </thead>\n",
       "  <tbody>\n",
       "    <tr>\n",
       "      <th>0</th>\n",
       "      <td>Amphibian</td>\n",
       "      <td>72</td>\n",
       "      <td>7</td>\n",
       "      <td>79</td>\n",
       "      <td>8.86</td>\n",
       "    </tr>\n",
       "    <tr>\n",
       "      <th>1</th>\n",
       "      <td>Bird</td>\n",
       "      <td>413</td>\n",
       "      <td>75</td>\n",
       "      <td>488</td>\n",
       "      <td>15.37</td>\n",
       "    </tr>\n",
       "    <tr>\n",
       "      <th>2</th>\n",
       "      <td>Fish</td>\n",
       "      <td>115</td>\n",
       "      <td>11</td>\n",
       "      <td>126</td>\n",
       "      <td>8.73</td>\n",
       "    </tr>\n",
       "    <tr>\n",
       "      <th>3</th>\n",
       "      <td>Mammal</td>\n",
       "      <td>146</td>\n",
       "      <td>30</td>\n",
       "      <td>176</td>\n",
       "      <td>17.05</td>\n",
       "    </tr>\n",
       "    <tr>\n",
       "      <th>4</th>\n",
       "      <td>Nonvascular Plant</td>\n",
       "      <td>328</td>\n",
       "      <td>5</td>\n",
       "      <td>333</td>\n",
       "      <td>1.50</td>\n",
       "    </tr>\n",
       "    <tr>\n",
       "      <th>5</th>\n",
       "      <td>Reptile</td>\n",
       "      <td>73</td>\n",
       "      <td>5</td>\n",
       "      <td>78</td>\n",
       "      <td>6.41</td>\n",
       "    </tr>\n",
       "    <tr>\n",
       "      <th>6</th>\n",
       "      <td>Vascular Plant</td>\n",
       "      <td>4216</td>\n",
       "      <td>46</td>\n",
       "      <td>4262</td>\n",
       "      <td>1.08</td>\n",
       "    </tr>\n",
       "  </tbody>\n",
       "</table>\n",
       "</div>"
      ],
      "text/plain": [
       "            category  not_protected  protected  total  perc_protected\n",
       "0          Amphibian             72          7     79            8.86\n",
       "1               Bird            413         75    488           15.37\n",
       "2               Fish            115         11    126            8.73\n",
       "3             Mammal            146         30    176           17.05\n",
       "4  Nonvascular Plant            328          5    333            1.50\n",
       "5            Reptile             73          5     78            6.41\n",
       "6     Vascular Plant           4216         46   4262            1.08"
      ]
     },
     "execution_count": 8,
     "metadata": {},
     "output_type": "execute_result"
    }
   ],
   "source": [
    "# Here I made a pivot table to get a clear view of the protected vs. not protected animals\n",
    "\n",
    "species = species_df.groupby(['category', 'is_protected']).scientific_name.nunique()\\\n",
    ".reset_index().pivot(columns='is_protected', index='category', values='scientific_name').reset_index()\n",
    "\n",
    "species.columns = ['category', 'not_protected', 'protected']\n",
    "\n",
    "# Below, I add columns 'total, perc_protected'\n",
    "\n",
    "species['total'] = species['not_protected'] + species['protected']\n",
    "\n",
    "species['perc_protected'] = round(species['protected'] / species['total'] * 100 ,2)\n",
    "\n",
    "species"
   ]
  },
  {
   "cell_type": "code",
   "execution_count": 9,
   "metadata": {},
   "outputs": [
    {
     "data": {
      "image/png": "[encoded data removed]",
      "text/plain": [
       "<Figure size 1152x432 with 2 Axes>"
      ]
     },
     "metadata": {
      "needs_background": "light"
     },
     "output_type": "display_data"
    }
   ],
   "source": [
    "# I visualize the total count of species and percent of species in conservation\n",
    "\n",
    "plt.figure(figsize=(16,6))\n",
    "\n",
    "plt.subplot(1, 2, 1)\n",
    "\n",
    "sns.barplot(x=species.category, y=species.total)\n",
    "for i in range(len(species)):\n",
    "    plt.text(i, species.total[i] + .1, species.total[i])\n",
    "    \n",
    "plt.title('Count of Unique Species')\n",
    "plt.ylabel('Count of Species')\n",
    "plt.xlabel('Category')\n",
    "plt.xticks(rotation=35)\n",
    "\n",
    "\n",
    "\n",
    "plt.subplot(1, 2, 2)\n",
    "\n",
    "sns.barplot(x=species.category, y=species.perc_protected)\n",
    "for i in range(len(species)):\n",
    "    plt.text(i, species.perc_protected[i] + .1, species.perc_protected[i])\n",
    "    \n",
    "plt.title('Percent of Species in Conservation')\n",
    "plt.ylabel('Percent Protected')\n",
    "plt.xlabel('Category')\n",
    "plt.ylim(0.0, 20.0)\n",
    "plt.xticks(rotation=35)\n",
    "\n",
    "\n",
    "plt.tight_layout()\n",
    "plt.savefig('hello')\n",
    "plt.show()"
   ]
  },
  {
   "cell_type": "code",
   "execution_count": 10,
   "metadata": {},
   "outputs": [
    {
     "data": {
      "text/html": [
       "<div>\n",
       "<style scoped>\n",
       "    .dataframe tbody tr th:only-of-type {\n",
       "        vertical-align: middle;\n",
       "    }\n",
       "\n",
       "    .dataframe tbody tr th {\n",
       "        vertical-align: top;\n",
       "    }\n",
       "\n",
       "    .dataframe thead th {\n",
       "        text-align: right;\n",
       "    }\n",
       "</style>\n",
       "<table border=\"1\" class=\"dataframe\">\n",
       "  <thead>\n",
       "    <tr style=\"text-align: right;\">\n",
       "      <th></th>\n",
       "      <th>category</th>\n",
       "      <th>conservation_status</th>\n",
       "      <th>total</th>\n",
       "      <th>percent</th>\n",
       "    </tr>\n",
       "  </thead>\n",
       "  <tbody>\n",
       "    <tr>\n",
       "      <th>0</th>\n",
       "      <td>Amphibian</td>\n",
       "      <td>Endangered</td>\n",
       "      <td>1</td>\n",
       "      <td>1.27</td>\n",
       "    </tr>\n",
       "    <tr>\n",
       "      <th>1</th>\n",
       "      <td>Amphibian</td>\n",
       "      <td>None</td>\n",
       "      <td>72</td>\n",
       "      <td>91.14</td>\n",
       "    </tr>\n",
       "    <tr>\n",
       "      <th>2</th>\n",
       "      <td>Amphibian</td>\n",
       "      <td>Species of Concern</td>\n",
       "      <td>4</td>\n",
       "      <td>5.06</td>\n",
       "    </tr>\n",
       "    <tr>\n",
       "      <th>3</th>\n",
       "      <td>Amphibian</td>\n",
       "      <td>Threatened</td>\n",
       "      <td>2</td>\n",
       "      <td>2.53</td>\n",
       "    </tr>\n",
       "    <tr>\n",
       "      <th>4</th>\n",
       "      <td>Bird</td>\n",
       "      <td>Endangered</td>\n",
       "      <td>4</td>\n",
       "      <td>0.82</td>\n",
       "    </tr>\n",
       "    <tr>\n",
       "      <th>5</th>\n",
       "      <td>Bird</td>\n",
       "      <td>In Recovery</td>\n",
       "      <td>3</td>\n",
       "      <td>0.61</td>\n",
       "    </tr>\n",
       "    <tr>\n",
       "      <th>6</th>\n",
       "      <td>Bird</td>\n",
       "      <td>None</td>\n",
       "      <td>413</td>\n",
       "      <td>84.63</td>\n",
       "    </tr>\n",
       "    <tr>\n",
       "      <th>7</th>\n",
       "      <td>Bird</td>\n",
       "      <td>Species of Concern</td>\n",
       "      <td>68</td>\n",
       "      <td>13.93</td>\n",
       "    </tr>\n",
       "    <tr>\n",
       "      <th>8</th>\n",
       "      <td>Fish</td>\n",
       "      <td>Endangered</td>\n",
       "      <td>3</td>\n",
       "      <td>2.38</td>\n",
       "    </tr>\n",
       "    <tr>\n",
       "      <th>9</th>\n",
       "      <td>Fish</td>\n",
       "      <td>None</td>\n",
       "      <td>115</td>\n",
       "      <td>91.27</td>\n",
       "    </tr>\n",
       "    <tr>\n",
       "      <th>10</th>\n",
       "      <td>Fish</td>\n",
       "      <td>Species of Concern</td>\n",
       "      <td>4</td>\n",
       "      <td>3.17</td>\n",
       "    </tr>\n",
       "    <tr>\n",
       "      <th>11</th>\n",
       "      <td>Fish</td>\n",
       "      <td>Threatened</td>\n",
       "      <td>4</td>\n",
       "      <td>3.17</td>\n",
       "    </tr>\n",
       "    <tr>\n",
       "      <th>12</th>\n",
       "      <td>Mammal</td>\n",
       "      <td>Endangered</td>\n",
       "      <td>6</td>\n",
       "      <td>3.39</td>\n",
       "    </tr>\n",
       "    <tr>\n",
       "      <th>13</th>\n",
       "      <td>Mammal</td>\n",
       "      <td>In Recovery</td>\n",
       "      <td>1</td>\n",
       "      <td>0.56</td>\n",
       "    </tr>\n",
       "    <tr>\n",
       "      <th>14</th>\n",
       "      <td>Mammal</td>\n",
       "      <td>None</td>\n",
       "      <td>146</td>\n",
       "      <td>82.49</td>\n",
       "    </tr>\n",
       "    <tr>\n",
       "      <th>15</th>\n",
       "      <td>Mammal</td>\n",
       "      <td>Species of Concern</td>\n",
       "      <td>22</td>\n",
       "      <td>12.43</td>\n",
       "    </tr>\n",
       "    <tr>\n",
       "      <th>16</th>\n",
       "      <td>Mammal</td>\n",
       "      <td>Threatened</td>\n",
       "      <td>2</td>\n",
       "      <td>1.13</td>\n",
       "    </tr>\n",
       "    <tr>\n",
       "      <th>17</th>\n",
       "      <td>Nonvascular Plant</td>\n",
       "      <td>None</td>\n",
       "      <td>328</td>\n",
       "      <td>98.50</td>\n",
       "    </tr>\n",
       "    <tr>\n",
       "      <th>18</th>\n",
       "      <td>Nonvascular Plant</td>\n",
       "      <td>Species of Concern</td>\n",
       "      <td>5</td>\n",
       "      <td>1.50</td>\n",
       "    </tr>\n",
       "    <tr>\n",
       "      <th>19</th>\n",
       "      <td>Reptile</td>\n",
       "      <td>None</td>\n",
       "      <td>73</td>\n",
       "      <td>93.59</td>\n",
       "    </tr>\n",
       "    <tr>\n",
       "      <th>20</th>\n",
       "      <td>Reptile</td>\n",
       "      <td>Species of Concern</td>\n",
       "      <td>5</td>\n",
       "      <td>6.41</td>\n",
       "    </tr>\n",
       "    <tr>\n",
       "      <th>21</th>\n",
       "      <td>Vascular Plant</td>\n",
       "      <td>Endangered</td>\n",
       "      <td>1</td>\n",
       "      <td>0.02</td>\n",
       "    </tr>\n",
       "    <tr>\n",
       "      <th>22</th>\n",
       "      <td>Vascular Plant</td>\n",
       "      <td>None</td>\n",
       "      <td>4216</td>\n",
       "      <td>98.92</td>\n",
       "    </tr>\n",
       "    <tr>\n",
       "      <th>23</th>\n",
       "      <td>Vascular Plant</td>\n",
       "      <td>Species of Concern</td>\n",
       "      <td>43</td>\n",
       "      <td>1.01</td>\n",
       "    </tr>\n",
       "    <tr>\n",
       "      <th>24</th>\n",
       "      <td>Vascular Plant</td>\n",
       "      <td>Threatened</td>\n",
       "      <td>2</td>\n",
       "      <td>0.05</td>\n",
       "    </tr>\n",
       "  </tbody>\n",
       "</table>\n",
       "</div>"
      ],
      "text/plain": [
       "             category conservation_status  total  percent\n",
       "0           Amphibian          Endangered      1     1.27\n",
       "1           Amphibian                None     72    91.14\n",
       "2           Amphibian  Species of Concern      4     5.06\n",
       "3           Amphibian          Threatened      2     2.53\n",
       "4                Bird          Endangered      4     0.82\n",
       "5                Bird         In Recovery      3     0.61\n",
       "6                Bird                None    413    84.63\n",
       "7                Bird  Species of Concern     68    13.93\n",
       "8                Fish          Endangered      3     2.38\n",
       "9                Fish                None    115    91.27\n",
       "10               Fish  Species of Concern      4     3.17\n",
       "11               Fish          Threatened      4     3.17\n",
       "12             Mammal          Endangered      6     3.39\n",
       "13             Mammal         In Recovery      1     0.56\n",
       "14             Mammal                None    146    82.49\n",
       "15             Mammal  Species of Concern     22    12.43\n",
       "16             Mammal          Threatened      2     1.13\n",
       "17  Nonvascular Plant                None    328    98.50\n",
       "18  Nonvascular Plant  Species of Concern      5     1.50\n",
       "19            Reptile                None     73    93.59\n",
       "20            Reptile  Species of Concern      5     6.41\n",
       "21     Vascular Plant          Endangered      1     0.02\n",
       "22     Vascular Plant                None   4216    98.92\n",
       "23     Vascular Plant  Species of Concern     43     1.01\n",
       "24     Vascular Plant          Threatened      2     0.05"
      ]
     },
     "execution_count": 10,
     "metadata": {},
     "output_type": "execute_result"
    }
   ],
   "source": [
    "# Here I gather a count of species in each 'conservation_status' along with their percentage\n",
    "\n",
    "spec = species_df.groupby(['category', 'conservation_status'], as_index=False).scientific_name.nunique()\n",
    "\n",
    "spec.columns=['category', 'conservation_status', 'total']\n",
    "\n",
    "spec['percent'] = round(spec.total.values / spec.groupby('category').total.transform('sum') * 100, 2)\n",
    "\n",
    "spec.sort_values(['category', 'conservation_status'], inplace=True)\n",
    "\n",
    "spec"
   ]
  },
  {
   "cell_type": "code",
   "execution_count": 55,
   "metadata": {},
   "outputs": [
    {
     "data": {
      "image/png": "[encoded data removed]",
      "text/plain": [
       "<Figure size 843.375x360 with 1 Axes>"
      ]
     },
     "metadata": {},
     "output_type": "display_data"
    }
   ],
   "source": [
    "sns.set_style('darkgrid')    \n",
    "    \n",
    "ax = sns.catplot(data=spec, x='category', y='percent', kind='bar', hue='conservation_status', aspect=2, height=5)\n",
    "\n",
    "plt.title('Category Conservation status: Percentage')\n",
    "plt.ylabel('Proportion')\n",
    "plt.xlabel('')\n",
    "ax.set_xticklabels(rotation=35)\n",
    "\n",
    "plt.yticks(np.linspace(0,100,9))\n",
    "\n",
    "plt.show()"
   ]
  },
  {
   "cell_type": "markdown",
   "metadata": {},
   "source": [
    "We can see that across the board, all categories are characterized as having a majority 'None' convervation_status. Looking closer, we can see the Bird and Mammal category has nearly a 12.5% 'Species of Concern' conservation status or higher. I would like to dive deeper into this and test for any levels of significance."
   ]
  },
  {
   "cell_type": "markdown",
   "metadata": {},
   "source": [
    "## Species Frequency Analysis\n",
    "\n",
    "\n",
    "\n",
    "\n",
    "\n",
    "\n"
   ]
  },
  {
   "cell_type": "markdown",
   "metadata": {},
   "source": [
    "In this section, I seek to find the most recorded 'animal' in the Amphibian and Bird category."
   ]
  },
  {
   "cell_type": "code",
   "execution_count": 12,
   "metadata": {},
   "outputs": [
    {
     "data": {
      "text/plain": [
       "[['Eastern', 'American', 'Toad'],\n",
       " ['Fowlers', 'Toad', 'Woodhouses', 'Toad'],\n",
       " ['Northern', 'Cricket', 'Frog'],\n",
       " ['Copes', 'Gray', 'Treefrog'],\n",
       " ['Gray', 'Treefrog'],\n",
       " ['Mountain', 'Chorus', 'Frog'],\n",
       " ['Northern', 'Spring', 'Peeper'],\n",
       " ['Upland', 'Chorus', 'Frog'],\n",
       " ['Striped', 'Chorus', 'Frog', 'Western', 'Chorus', 'Frog'],\n",
       " ['Eastern', 'NarrowMouthed', 'Toad']]"
      ]
     },
     "execution_count": 12,
     "metadata": {},
     "output_type": "execute_result"
    }
   ],
   "source": [
    "# Here I created a function to remove the punctuation marks from the names in the 'common_names' column\n",
    "\n",
    "def just_words(text):\n",
    "    for item in string.punctuation:\n",
    "        text = text.replace(item, '')\n",
    "    return text\n",
    "  \n",
    "# Here I created a list of lists, containing names without punctuation marks for better manipulation going forward\n",
    "\n",
    "amph_words = species_df[species_df['category']=='Amphibian'].common_names.apply(just_words).str.split().tolist()\n",
    "amph_words[:10]"
   ]
  },
  {
   "cell_type": "code",
   "execution_count": 13,
   "metadata": {},
   "outputs": [
    {
     "data": {
      "text/plain": [
       "[['Eastern', 'American', 'Toad'],\n",
       " ['Fowlers', 'Toad', 'Woodhouses'],\n",
       " ['Northern', 'Cricket', 'Frog'],\n",
       " ['Copes', 'Gray', 'Treefrog'],\n",
       " ['Gray', 'Treefrog'],\n",
       " ['Mountain', 'Chorus', 'Frog'],\n",
       " ['Northern', 'Spring', 'Peeper'],\n",
       " ['Upland', 'Chorus', 'Frog'],\n",
       " ['Striped', 'Chorus', 'Frog', 'Western'],\n",
       " ['Eastern', 'NarrowMouthed', 'Toad']]"
      ]
     },
     "execution_count": 13,
     "metadata": {},
     "output_type": "execute_result"
    }
   ],
   "source": [
    "# Here I removed multiple instances of the same name from each individual list\n",
    "\n",
    "amph_words2 = []\n",
    "for item in amph_words:\n",
    "    test = list({}.fromkeys(item))\n",
    "    amph_words2.append(test)\n",
    "    \n",
    "amph_words2[:10]"
   ]
  },
  {
   "cell_type": "code",
   "execution_count": 14,
   "metadata": {},
   "outputs": [
    {
     "data": {
      "text/plain": [
       "['Eastern',\n",
       " 'American',\n",
       " 'Toad',\n",
       " 'Fowlers',\n",
       " 'Toad',\n",
       " 'Woodhouses',\n",
       " 'Northern',\n",
       " 'Cricket',\n",
       " 'Frog',\n",
       " 'Copes']"
      ]
     },
     "execution_count": 14,
     "metadata": {},
     "output_type": "execute_result"
    }
   ],
   "source": [
    "# Here I unpacked each list to form 1 list\n",
    "\n",
    "clean_amph_words = [x for l in amph_words2 for x in l]\n",
    "clean_amph_words[:10]"
   ]
  },
  {
   "cell_type": "code",
   "execution_count": 28,
   "metadata": {},
   "outputs": [
    {
     "data": {
      "text/plain": [
       "Salamander    41\n",
       "Frog          14\n",
       "Northern       8\n",
       "Eastern        7\n",
       "Toad           7\n",
       "Southern       6\n",
       "Chorus         5\n",
       "Red            4\n",
       "Mud            4\n",
       "Spadefoot      3\n",
       "dtype: int64"
      ]
     },
     "metadata": {},
     "output_type": "display_data"
    },
    {
     "name": "stdout",
     "output_type": "stream",
     "text": [
      "Salamander is the most observed Amphibian in the dataset, being oberserved 41 times.\n"
     ]
    }
   ],
   "source": [
    "# Here I created a series dataset of the previous list to get a 'value_counts' of each name mentioned\n",
    "\n",
    "clean_amph = pd.Series(clean_amph_words).value_counts().head(10)\n",
    "\n",
    "display(clean_amph)\n",
    "\n",
    "print(f'Salamander is the most observed Amphibian in the dataset, being oberserved {clean_amph[0]} times.')"
   ]
  },
  {
   "cell_type": "code",
   "execution_count": 16,
   "metadata": {},
   "outputs": [],
   "source": [
    "# Here I added a new column to species_df named 'is_salamander' based off names in the 'common_names' column\n",
    "\n",
    "species_df['is_salamander'] = species_df.common_names.str.contains(r'\\bSalamander\\b')"
   ]
  },
  {
   "cell_type": "code",
   "execution_count": 17,
   "metadata": {},
   "outputs": [
    {
     "ename": "NameError",
     "evalue": "name 'sala' is not defined",
     "output_type": "error",
     "traceback": [
      "\u001b[0;31m---------------------------------------------------------------------------\u001b[0m",
      "\u001b[0;31mNameError\u001b[0m                                 Traceback (most recent call last)",
      "Input \u001b[0;32mIn [17]\u001b[0m, in \u001b[0;36m<cell line: 7>\u001b[0;34m()\u001b[0m\n\u001b[1;32m      1\u001b[0m \u001b[38;5;66;03m# Here I capture all mentions of True for 'is_salamander' and merged it with observations_df\u001b[39;00m\n\u001b[1;32m      2\u001b[0m \n\u001b[1;32m      3\u001b[0m \u001b[38;5;66;03m# Then I displayed the first 10 rows of the new dataframe\u001b[39;00m\n\u001b[1;32m      5\u001b[0m salamander \u001b[38;5;241m=\u001b[39m species_df[species_df[\u001b[38;5;124m'\u001b[39m\u001b[38;5;124mis_salamander\u001b[39m\u001b[38;5;124m'\u001b[39m] \u001b[38;5;241m==\u001b[39m \u001b[38;5;28;01mTrue\u001b[39;00m]\n\u001b[0;32m----> 7\u001b[0m salamander \u001b[38;5;241m=\u001b[39m observations_df\u001b[38;5;241m.\u001b[39mmerge(\u001b[43msala\u001b[49m)\n\u001b[1;32m      9\u001b[0m salamander\u001b[38;5;241m.\u001b[39mhead(\u001b[38;5;241m10\u001b[39m)\n",
      "\u001b[0;31mNameError\u001b[0m: name 'sala' is not defined"
     ]
    }
   ],
   "source": [
    "# Here I capture all mentions of True for 'is_salamander' and merged it with observations_df\n",
    "\n",
    "# Then I displayed the first 10 rows of the new dataframe\n",
    "\n",
    "salamander = species_df[species_df['is_salamander'] == True]\n",
    "\n",
    "salamander = observations_df.merge(sala)\n",
    "\n",
    "salamander.head(10)"
   ]
  },
  {
   "cell_type": "code",
   "execution_count": null,
   "metadata": {},
   "outputs": [],
   "source": [
    "# Here I made a table to represent the total observations and percent of Salamanders in the parks\n",
    "\n",
    "salamander_ob = salamander.groupby('park_name').observations.sum().sort_values().reset_index()\n",
    "\n",
    "salamander_ob['percent'] = round(salamander_ob.observations / np.sum(salamander_ob.observations) ,2) * 100\n",
    "\n",
    "salamander_ob"
   ]
  },
  {
   "cell_type": "code",
   "execution_count": null,
   "metadata": {},
   "outputs": [],
   "source": [
    "# Here I created a table displaying the observations of protected vs. not-protected Salamanders in each park along\n",
    "# with the corresponding percentage\n",
    "\n",
    "protected_salamander = salamander.groupby(['park_name', 'is_protected'], as_index=False)[['observations']].sum()\n",
    "\n",
    "protected_salamander['percent'] = round(protected_salamander.observations / protected_salamander.groupby(['park_name'])['observations'].transform('sum'), 2) * 100\n",
    "\n",
    "protected_salamander"
   ]
  },
  {
   "cell_type": "code",
   "execution_count": null,
   "metadata": {},
   "outputs": [],
   "source": [
    "# Here I created a visual displaying the protected_salamander 'is_protected' column for each park\n",
    "\n",
    "plt.figure(figsize=(15,4))\n",
    "\n",
    "sns.barplot(data=protected_salamander, x = 'park_name', y = 'observations', hue ='is_protected')\n",
    "\n",
    "plt.title('Salamander Protected Status, By Park')\n",
    "plt.xlabel('Park Name')\n",
    "plt.ylabel('Obervations')\n",
    "\n",
    "for i in range(len(protected_salamander)):\n",
    "    plt.text(i/2 -.35, protected_salamander.observations[i], protected_salamander.observations[i])\n",
    "\n",
    "plt.ylim(0, 11500)    \n",
    "    \n",
    "plt.show()"
   ]
  },
  {
   "cell_type": "code",
   "execution_count": null,
   "metadata": {},
   "outputs": [],
   "source": [
    "bird = species_df[species_df['category'] == 'Bird'].common_names.apply(just_words).str.split().to_list()"
   ]
  },
  {
   "cell_type": "code",
   "execution_count": null,
   "metadata": {},
   "outputs": [],
   "source": [
    "bird1 = []\n",
    "for i in bird:\n",
    "    text = list(dict.fromkeys(i))\n",
    "    bird1.append(text)\n"
   ]
  },
  {
   "cell_type": "code",
   "execution_count": null,
   "metadata": {},
   "outputs": [],
   "source": [
    "bird2 = [x for l in bird1 for x in l]\n",
    "\n",
    "pd.Series(bird2).value_counts()"
   ]
  },
  {
   "cell_type": "code",
   "execution_count": null,
   "metadata": {},
   "outputs": [],
   "source": [
    "species_df['is_warbler'] = species_df[species_df['category']=='Bird'].common_names.str.contains(r'\\bWarbler\\b')"
   ]
  },
  {
   "cell_type": "code",
   "execution_count": null,
   "metadata": {},
   "outputs": [],
   "source": [
    "warb = species_df.loc[species_df['is_warbler']==True]\n",
    "\n",
    "warb = warb.merge(observations_df)"
   ]
  },
  {
   "cell_type": "code",
   "execution_count": null,
   "metadata": {},
   "outputs": [],
   "source": [
    "warb1 = warb.groupby('park_name').observations.sum().reset_index()\n",
    "\n",
    "warb1['perc_'] = round(warb1.observations / np.sum(warb1.observations), 2) * 100\n",
    "warb1"
   ]
  },
  {
   "cell_type": "code",
   "execution_count": null,
   "metadata": {},
   "outputs": [],
   "source": [
    "warb2 = warb.groupby(['park_name', 'is_protected'], as_index=False)[['observations']].sum()\n",
    "warb2"
   ]
  },
  {
   "cell_type": "code",
   "execution_count": null,
   "metadata": {},
   "outputs": [],
   "source": [
    "plt.figure(figsize=(16,4))\n",
    "\n",
    "sns.barplot(data=warb1, x='park_name', y='perc_')\n",
    "\n",
    "\n",
    "plt.title('Warbler Park Distribution: Percentage')\n",
    "plt.ylabel('Percent')\n",
    "plt.xlabel('Park Name')\n",
    "\n",
    "plt.ylim(0.0, 50.0)\n",
    "\n",
    "for i in range(len(warb1)):\n",
    "    plt.text(i, warb1.perc_[i], warb1.perc_[i])\n",
    "\n",
    "plt.show()"
   ]
  },
  {
   "cell_type": "code",
   "execution_count": null,
   "metadata": {
    "scrolled": true
   },
   "outputs": [],
   "source": []
  },
  {
   "cell_type": "code",
   "execution_count": null,
   "metadata": {},
   "outputs": [],
   "source": [
    "species_df[\"conservation_status\"].notnull().groupby(species_df[\"category\"]).sum()"
   ]
  },
  {
   "cell_type": "code",
   "execution_count": null,
   "metadata": {},
   "outputs": [],
   "source": [
    "species_df[\"conservation_status\"].isnull().groupby(species_df[\"category\"]).sum()"
   ]
  },
  {
   "cell_type": "code",
   "execution_count": null,
   "metadata": {},
   "outputs": [],
   "source": [
    "species_df.describe(include='all')"
   ]
  },
  {
   "cell_type": "code",
   "execution_count": null,
   "metadata": {},
   "outputs": [],
   "source": [
    "species_df.describe()"
   ]
  },
  {
   "cell_type": "code",
   "execution_count": null,
   "metadata": {},
   "outputs": [],
   "source": [
    "observations_df.describe(include='all')"
   ]
  },
  {
   "cell_type": "code",
   "execution_count": null,
   "metadata": {},
   "outputs": [],
   "source": [
    "observations_df.describe()"
   ]
  },
  {
   "cell_type": "code",
   "execution_count": null,
   "metadata": {},
   "outputs": [],
   "source": []
  }
 ],
 "metadata": {
  "kernelspec": {
   "display_name": "Python 3 (ipykernel)",
   "language": "python",
   "name": "python3"
  },
  "language_info": {
   "codemirror_mode": {
    "name": "ipython",
    "version": 3
   },
   "file_extension": ".py",
   "mimetype": "text/x-python",
   "name": "python",
   "nbconvert_exporter": "python",
   "pygments_lexer": "ipython3",
   "version": "3.9.12"
  }
 },
 "nbformat": 4,
 "nbformat_minor": 4
}
